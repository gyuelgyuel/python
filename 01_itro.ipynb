{
 "cells": [
  {
   "cell_type": "markdown",
   "id": "87acceca-89a9-4c7c-896c-e31d8c40e5e3",
   "metadata": {},
   "source": [
    "# 01. intro\n",
    "\n",
    "## 단축키\n",
    "\n",
    "- ctrl + enter : 현재 셀 실행\n",
    "- shift + enter : 현재 셀 실행 후 아래로 이동\n",
    "- alt + enter : 현재 셀 실행 후 새로운 셀 추가\n",
    "- ctrl + / : 주석처리(jupyter_lab에서만)\n",
    "- esc + a : 현재 셀 위(above)에 새로운 셀 추가\n",
    "- esc + b : 현재 셀 아래(below)에 새로운 셀 추가\n",
    "- esc + d + d : 현재 셀 삭제\n",
    "- esc + m : markdown 문법으로 변경\n",
    "- esc + y : python code 문법으로 변경\n",
    "  \n",
    "## 주의사항\n",
    "\n",
    "1. 대소문자를 구분\n",
    "2. 띄어쓰기 확인\n",
    "3. 스펠링 확인"
   ]
  },
  {
   "cell_type": "code",
   "execution_count": 5,
   "id": "d93f55c1-56f2-49c3-9e44-a7106c2aaf24",
   "metadata": {},
   "outputs": [],
   "source": [
    "# 주석을 나타냅니다."
   ]
  },
  {
   "cell_type": "markdown",
   "id": "2582d74a-7b44-4d86-9f84-6bde19e17a72",
   "metadata": {},
   "source": [
    "# 1. 변수\n",
    "\n",
    "변수 선언 : 변수이름 = 값 (ex. a = 20)\n",
    "\n",
    "- 변수이름은 영어, 숫자, _를 조합하여 사용\n",
    "- 키워드 (ex. False)는 사용불가\n",
    "\n",
    "## 1.1 Type\n",
    "bool, int, float, complex, str, list, tuple\n",
    "- type()을 통하여 자료형 확인 가능\n",
    "- complex의 경우 .real, .image로 실수 허수부를 나타낼 수 있음\n",
    "  \n",
    "### 1.1.1 문자열\n",
    "\n",
    "- ',\" 로 단어를 감싸서 문자열로 표시\n",
    "- input()으로 받아온 변수는 str\n",
    "- 문자열 안에서 ',\"를 쓸경우 다른 ',\"를 사용하거나 \\',\\\"를 사용\n",
    "- 여러줄 문자열을 작성할 땐 ``` or \"\"\"로 감싸서 표시\n",
    "- print() string interpolation\n",
    "      - % formatting : print(\"sdfa %s sdf\", % a)\n",
    "      - str.format() : print(\"sdfa {} sdf\".format(a))\n",
    "      - f-string : print(f,\"sdfa {a} sdf\")"
   ]
  }
 ],
 "metadata": {
  "kernelspec": {
   "display_name": "Python 3 (ipykernel)",
   "language": "python",
   "name": "python3"
  },
  "language_info": {
   "codemirror_mode": {
    "name": "ipython",
    "version": 3
   },
   "file_extension": ".py",
   "mimetype": "text/x-python",
   "name": "python",
   "nbconvert_exporter": "python",
   "pygments_lexer": "ipython3",
   "version": "3.11.4"
  }
 },
 "nbformat": 4,
 "nbformat_minor": 5
}
