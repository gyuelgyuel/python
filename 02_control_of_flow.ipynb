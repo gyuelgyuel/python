{
 "cells": [
  {
   "cell_type": "markdown",
   "id": "bb2caf04-5a0a-44f0-b695-ea2ec8bf6139",
   "metadata": {},
   "source": [
    "# 제어문\n",
    "\n",
    "## 1. 조건문 (if문)\n",
    "1. `if` 문은 일정한 참/거짓을 판단할 수 있는 조건식과 함께 사용한다.\n",
    "2. 조건식이 참인경우 `:` 이후의 문장을 실행한다.  \n",
    "3. 조건식이 거짓인 경우 `elif:` 이후의 문장을 실행한다.\n",
    "4. `elif`의 조건식이 거짓인 경우 `else:` 이후의 문장을 실행한다.\n",
    "\n",
    "## 2. 조건 표현식\n",
    "`true_value if <조건식> else false_value`\n",
    "\n",
    "\n",
    "## 반복문\n",
    "\n",
    "## 1. while문\n",
    "```python\n",
    "while <조건식>:\n",
    "    code\n",
    "```\n",
    "\n",
    "## 2. for문\n",
    "정해진 범위 내의 반복\n",
    "```python\n",
    "for variable in sequence:\n",
    "    code\n",
    "```\n",
    "- `enumerate()` : 어떤 배열에 인덱스를 부여하여 sequence를 만들 때 사용\n",
    "\n",
    "## 3. dictionary 반복\n",
    "\n",
    "1. `for key in dict:`\n",
    "2. `for key in dict.keys():`\n",
    "3. `for value in dict.values():`\n",
    "4. `for key, value in dict.items():`\n",
    "\n",
    "## 4. 반복문 키워드\n",
    "### 1. break\n",
    "\n",
    "반복문을 종료시키는 키워드\n",
    "\n",
    "### 2. continue\n",
    "\n",
    "continue 이후의 코드를 실행하지 않고 다음 반복을 진행\n",
    "\n",
    "### 3. else\n",
    "\n",
    "else문은 끝까지 반복이 진행된 후 실행됩니다.\n",
    "```python\n",
    "for i in range(10):\n",
    "    if i > 100:\n",
    "        break\n",
    "    print(i)\n",
    "else:\n",
    "    print('break 되지 않음')\n",
    "```\n",
    "\n",
    "### 4. pass\n",
    "\n",
    "구조를 잡기 위해 임의로 채워넣는 아무 의미 없는 코드\n",
    "\n",
    "### 5. match\n",
    "\n",
    "`case`와 함께 사용하여 조건이 맞는 `case:` 이후 code를 실행, 맞는 조건이 없다면 `_:` 이후 code 실행\n",
    "\n",
    "```python\n",
    "status = 100\n",
    "\n",
    "match status:\n",
    "    case 400:\n",
    "        print('bad')\n",
    "    case 404:\n",
    "        print('not found')\n",
    "    case _:\n",
    "        print('something is wrong')\n",
    "```"
   ]
  },
  {
   "cell_type": "code",
   "execution_count": 25,
   "id": "8faea814-f1a0-4c75-9c60-7b93985f8863",
   "metadata": {},
   "outputs": [
    {
     "name": "stdout",
     "output_type": "stream",
     "text": [
      "something is wrong\n"
     ]
    }
   ],
   "source": [
    "status = 100\n",
    "\n",
    "match status:\n",
    "    case 400:\n",
    "        print('bad')\n",
    "    case 404:\n",
    "        print('not found')\n",
    "    case _:\n",
    "        print('something is wrong')"
   ]
  }
 ],
 "metadata": {
  "kernelspec": {
   "display_name": "Python 3 (ipykernel)",
   "language": "python",
   "name": "python3"
  },
  "language_info": {
   "codemirror_mode": {
    "name": "ipython",
    "version": 3
   },
   "file_extension": ".py",
   "mimetype": "text/x-python",
   "name": "python",
   "nbconvert_exporter": "python",
   "pygments_lexer": "ipython3",
   "version": "3.11.4"
  }
 },
 "nbformat": 4,
 "nbformat_minor": 5
}
