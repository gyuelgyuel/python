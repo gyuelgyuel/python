{
 "cells": [
  {
   "cell_type": "markdown",
   "id": "bb2caf04-5a0a-44f0-b695-ea2ec8bf6139",
   "metadata": {},
   "source": [
    "# 제어문\n",
    "\n",
    "## 1. 조건문 (if문)\n",
    "1. `if` 문은 일정한 참/거짓을 판단할 수 있는 조건식과 함께 사용한다.\n",
    "2. 조건식이 참인경우 `:` 이후의 문장을 실행한다.  \n",
    "3. 조건식이 거짓인 경우 `elif:` 이후의 문장을 실행한다.\n",
    "4. `elif`의 조건식이 거짓인 경우 `else:` 이후의 문장을 실행한다.\n",
    "\n",
    "## 2. 조건 표현식\n",
    "`true_value if <조건식> else false_value`\n",
    "    "
   ]
  }
 ],
 "metadata": {
  "kernelspec": {
   "display_name": "Python 3 (ipykernel)",
   "language": "python",
   "name": "python3"
  },
  "language_info": {
   "codemirror_mode": {
    "name": "ipython",
    "version": 3
   },
   "file_extension": ".py",
   "mimetype": "text/x-python",
   "name": "python",
   "nbconvert_exporter": "python",
   "pygments_lexer": "ipython3",
   "version": "3.11.4"
  }
 },
 "nbformat": 4,
 "nbformat_minor": 5
}
