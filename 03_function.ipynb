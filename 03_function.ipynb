{
 "cells": [
  {
   "cell_type": "markdown",
   "id": "c2c5a518-d5d4-4a22-a517-f644739913c2",
   "metadata": {},
   "source": [
    "# 함수(function)\n",
    "\n",
    "## 함수의 선언과 호출\n",
    "\n",
    "- 함수의 선언\n",
    "```python\n",
    "def func_name(parameter1, parameter2, ...):\n",
    "    code\n",
    "    return value\n",
    "```\n",
    "- 함수의 호출(실행)\n",
    "`func_name(parameter1, parameter2, ...)`\n",
    "\n",
    "## 함수의 반환\n",
    "\n",
    "- 함수가 `return`을 만나면 해당 값을 반환하고 함수를 종료\n",
    "- 만약 `return`이 없다면 `None`을 자동으로 반환\n",
    "- `return`은 오직 하나의 객체만 반환"
   ]
  }
 ],
 "metadata": {
  "kernelspec": {
   "display_name": "Python 3 (ipykernel)",
   "language": "python",
   "name": "python3"
  },
  "language_info": {
   "codemirror_mode": {
    "name": "ipython",
    "version": 3
   },
   "file_extension": ".py",
   "mimetype": "text/x-python",
   "name": "python",
   "nbconvert_exporter": "python",
   "pygments_lexer": "ipython3",
   "version": "3.11.4"
  }
 },
 "nbformat": 4,
 "nbformat_minor": 5
}
