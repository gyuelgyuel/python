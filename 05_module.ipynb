{
 "cells": [
  {
   "cell_type": "markdown",
   "id": "5454a1c6-7d14-44c1-ae6d-cb64f6fb0b78",
   "metadata": {},
   "source": [
    "# 1. 모듈\n",
    "\n",
    "- 같은 폴더 안에 있는 모듈일 경우 `import` 만으로 모듈 사용\n",
    "\n",
    "# 2. 패키지\n",
    "\n",
    "-패키지 안에 `__init__.py` 파일이 있어야 패키지로 인식\n",
    "-`from <package_name> import <module_name>` 을 통해 패키지 사용\n",
    "- 패키지에 포함된 모든 모듈을 사용할 때 `*`, 모듈이름을 바꾸어 사용할 땐 `as <changed_name>`\n",
    "- 모듈의 `object`를 이용할 땐, `<module_name>.<object_name>` 으로 사용\n",
    "\n",
    "# 3. Python 내장 패키지\n",
    "\n",
    "## 3.1 math"
   ]
  },
  {
   "cell_type": "code",
   "execution_count": 16,
   "id": "9888cbb4-f7f3-4a4a-befd-b1fe6c5c016c",
   "metadata": {},
   "outputs": [
    {
     "data": {
      "text/plain": [
       "3.141592653589793"
      ]
     },
     "execution_count": 16,
     "metadata": {},
     "output_type": "execute_result"
    }
   ],
   "source": [
    "import math\n",
    "math.pi #원주율"
   ]
  },
  {
   "cell_type": "code",
   "execution_count": 13,
   "id": "1cc1fdf2-7f24-4792-b122-e68b484cd472",
   "metadata": {},
   "outputs": [
    {
     "data": {
      "text/plain": [
       "4"
      ]
     },
     "execution_count": 13,
     "metadata": {},
     "output_type": "execute_result"
    }
   ],
   "source": [
    "math.ceil(math.pi) #올림"
   ]
  },
  {
   "cell_type": "code",
   "execution_count": 14,
   "id": "819db13e-30b4-4a79-b009-bcf650028216",
   "metadata": {},
   "outputs": [
    {
     "data": {
      "text/plain": [
       "3"
      ]
     },
     "execution_count": 14,
     "metadata": {},
     "output_type": "execute_result"
    }
   ],
   "source": [
    "math.floor(math.pi) #내림"
   ]
  },
  {
   "cell_type": "code",
   "execution_count": 15,
   "id": "a3ec73ae-d395-4c49-bfb6-d0f09dc3399a",
   "metadata": {},
   "outputs": [
    {
     "data": {
      "text/plain": [
       "1.4142135623730951"
      ]
     },
     "execution_count": 15,
     "metadata": {},
     "output_type": "execute_result"
    }
   ],
   "source": [
    "math.sqrt(2) #제곱루트"
   ]
  },
  {
   "cell_type": "markdown",
   "id": "a0fa2c48-c319-4206-8122-ba1b786a5e4a",
   "metadata": {},
   "source": [
    "## 3.2 random"
   ]
  },
  {
   "cell_type": "code",
   "execution_count": 17,
   "id": "bdc16980-c66e-443a-bb6b-9aac74a46c94",
   "metadata": {},
   "outputs": [
    {
     "data": {
      "text/plain": [
       "0.8474337369372327"
      ]
     },
     "execution_count": 17,
     "metadata": {},
     "output_type": "execute_result"
    }
   ],
   "source": [
    "import random\n",
    "random.random() #0~1 random 변수"
   ]
  },
  {
   "cell_type": "code",
   "execution_count": 19,
   "id": "e63642a6-1626-48c1-8748-0ef1d1896a26",
   "metadata": {},
   "outputs": [
    {
     "data": {
      "text/plain": [
       "2"
      ]
     },
     "execution_count": 19,
     "metadata": {},
     "output_type": "execute_result"
    }
   ],
   "source": [
    "random.randint(1,10) #범위 안의 랜덤 정수"
   ]
  },
  {
   "cell_type": "code",
   "execution_count": 18,
   "id": "8c94db9f-355f-45f8-88f7-98554c0e543c",
   "metadata": {},
   "outputs": [
    {
     "data": {
      "text/plain": [
       "0.13436424411240122"
      ]
     },
     "execution_count": 18,
     "metadata": {},
     "output_type": "execute_result"
    }
   ],
   "source": [
    "random.seed(1)  #앞으로 0~1 random 변수를 seed 상수로 받음\n",
    "random.random()"
   ]
  },
  {
   "cell_type": "code",
   "execution_count": 20,
   "id": "968de190-508d-4a1c-8d70-99fc365e5055",
   "metadata": {},
   "outputs": [
    {
     "data": {
      "text/plain": [
       "2"
      ]
     },
     "execution_count": 20,
     "metadata": {},
     "output_type": "execute_result"
    }
   ],
   "source": [
    "random.choice([1,2,3]) #배열의 값 랜덤으로 반환"
   ]
  },
  {
   "cell_type": "code",
   "execution_count": 22,
   "id": "e7723499-776f-4ff7-b8ca-f94a7a8c359f",
   "metadata": {},
   "outputs": [],
   "source": [
    "random.shuffle([1,2,3]) #배열의 값을 랜덤으로 ordering"
   ]
  },
  {
   "cell_type": "code",
   "execution_count": 23,
   "id": "24452344-517e-448b-ada0-1650207b1d14",
   "metadata": {},
   "outputs": [
    {
     "data": {
      "text/plain": [
       "[7, 4, 1]"
      ]
     },
     "execution_count": 23,
     "metadata": {},
     "output_type": "execute_result"
    }
   ],
   "source": [
    "random.sample(range(1,10),3) #배열의 값을 일정 갯수 랜덤하게 반환"
   ]
  },
  {
   "cell_type": "markdown",
   "id": "f97f5bd7-25da-49ea-87ac-a8f9042acf5b",
   "metadata": {},
   "source": [
    "## 3.3 datetime"
   ]
  },
  {
   "cell_type": "code",
   "execution_count": 26,
   "id": "8e234eb4-04cc-4ef0-9892-57f165148c03",
   "metadata": {},
   "outputs": [
    {
     "data": {
      "text/plain": [
       "datetime.datetime(2023, 7, 31, 16, 22, 26, 580319)"
      ]
     },
     "execution_count": 26,
     "metadata": {},
     "output_type": "execute_result"
    }
   ],
   "source": [
    "from datetime import datetime\n",
    "datetime.now() #현재날짜&시간, timezone 설정 가능"
   ]
  },
  {
   "cell_type": "code",
   "execution_count": 27,
   "id": "b234c929-377d-42b4-b00f-6b13bac1d943",
   "metadata": {},
   "outputs": [
    {
     "data": {
      "text/plain": [
       "datetime.datetime(2023, 7, 31, 16, 22, 32, 823842)"
      ]
     },
     "execution_count": 27,
     "metadata": {},
     "output_type": "execute_result"
    }
   ],
   "source": [
    "datetime.today() #현재날짜&시간"
   ]
  },
  {
   "cell_type": "code",
   "execution_count": 29,
   "id": "1d7b5314-a26c-467c-a626-d84a1db48505",
   "metadata": {},
   "outputs": [
    {
     "data": {
      "text/plain": [
       "'2023년 07월 31일'"
      ]
     },
     "execution_count": 29,
     "metadata": {},
     "output_type": "execute_result"
    }
   ],
   "source": [
    "now.strftime('%Y년 %m월 %d일')"
   ]
  },
  {
   "cell_type": "code",
   "execution_count": 30,
   "id": "a0e1c750-61a2-4487-ab4f-a61012b3436c",
   "metadata": {},
   "outputs": [
    {
     "data": {
      "text/plain": [
       "0"
      ]
     },
     "execution_count": 30,
     "metadata": {},
     "output_type": "execute_result"
    }
   ],
   "source": [
    "now.weekday() #요일을 숫자로 반환 월~일:0~6"
   ]
  },
  {
   "cell_type": "code",
   "execution_count": 33,
   "id": "378b3f88-5f1f-46db-9a66-0abed9d8bc5d",
   "metadata": {},
   "outputs": [
    {
     "data": {
      "text/plain": [
       "datetime.datetime(2023, 1, 4, 0, 0)"
      ]
     },
     "execution_count": 33,
     "metadata": {},
     "output_type": "execute_result"
    }
   ],
   "source": [
    "from datetime import timedelta\n",
    "t1 = datetime(2023,1,1)\n",
    "t_del = timedelta(days=3) #시간량을 반환\n",
    "t1 + t_del"
   ]
  },
  {
   "cell_type": "code",
   "execution_count": null,
   "id": "1ec52937-e288-4524-9cb7-a7a931b37d90",
   "metadata": {},
   "outputs": [],
   "source": []
  }
 ],
 "metadata": {
  "kernelspec": {
   "display_name": "Python 3 (ipykernel)",
   "language": "python",
   "name": "python3"
  },
  "language_info": {
   "codemirror_mode": {
    "name": "ipython",
    "version": 3
   },
   "file_extension": ".py",
   "mimetype": "text/x-python",
   "name": "python",
   "nbconvert_exporter": "python",
   "pygments_lexer": "ipython3",
   "version": "3.11.4"
  }
 },
 "nbformat": 4,
 "nbformat_minor": 5
}
