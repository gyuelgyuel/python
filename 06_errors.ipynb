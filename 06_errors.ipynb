{
 "cells": [
  {
   "cell_type": "markdown",
   "id": "953aacbe-d708-4cbc-9f62-6c165ca55aef",
   "metadata": {},
   "source": [
    "# Error\n",
    "\n",
    "## 1. Error의 종류\n",
    "\n",
    "- syntax error : 문법 오류\n",
    "- name error : 없는 이름 호출\n",
    "- value error : 함수에 올바르지 않은 type 인자 입력\n",
    "- type error : 함수에 적거나 많은 인자 입력\n",
    "- zero division error : 0으로 나눌 경우\n",
    "- index error : 시퀀스 데이터의 최대 index를 넘어간 경우\n",
    "- key error : dictionary에 없는 key에 접근하는 경우\n",
    "- module not found error : module이 없는데 호출하는 경우\n",
    "- keyboard interrupt error : 코드 실행중 커맨드로 강제 종료할 경우\n",
    "\n",
    "## 2. 예외처리\n",
    "\n",
    "```python\n",
    "try:\n",
    "    code\n",
    "except error_type:\n",
    "    code\n",
    "```\n",
    "`try code`를 실행하고 에러가 뜬다면 `error_type`과 맞는 `except code`실행\n",
    "\n",
    "`rasie` : 에러를 일부러 발생시키는 키워드"
   ]
  }
 ],
 "metadata": {
  "kernelspec": {
   "display_name": "Python 3 (ipykernel)",
   "language": "python",
   "name": "python3"
  },
  "language_info": {
   "codemirror_mode": {
    "name": "ipython",
    "version": 3
   },
   "file_extension": ".py",
   "mimetype": "text/x-python",
   "name": "python",
   "nbconvert_exporter": "python",
   "pygments_lexer": "ipython3",
   "version": "3.11.4"
  }
 },
 "nbformat": 4,
 "nbformat_minor": 5
}
