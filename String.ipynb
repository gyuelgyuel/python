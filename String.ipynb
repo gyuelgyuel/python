{
 "cells": [
  {
   "cell_type": "markdown",
   "metadata": {},
   "source": [
    "# 문자열 표시\n",
    "\n",
    "- `'`,`\"` 로 단어를 감싸서 문자열로 표시\n",
    "- 여러줄 문자열을 작성할 땐 ``` or \"\"\"로 감싸서 표시\n",
    "- 문자열 안에서 `'`,`\"`를 쓸경우 다른 `'`,`\"`를 사용하거나 `\\'`,`\\\"`를 사용\n",
    "\n",
    "# str 내장함수\n",
    "\n",
    "`.function_name(input_value)` 형태로 사용\n",
    "\n",
    "`+` : 앞과 뒤의 str을 연결 (concatenate)\n",
    "\n",
    "split(sep = None, maxsplit = -1) : `sep`에 할당된 문자(기본 구분문자 ex.띄어쓰기,tab)로 문자열을 `maxsplit`에 할당된 갯수만큼 구분하여 `list`로 반환\n",
    "\n",
    "## print format\n",
    "\n",
    "- print() string interpolation\n",
    "  - % formatting : `print(\"sdfa %s sdf\", % a) \\n`\n",
    "  - str.format() : `print(\"sdfa {} sdf\".format(a))`\n",
    "  - f-string : `print(f\"sdfa {a} sdf\")`\n",
    "\n"
   ]
  }
 ],
 "metadata": {
  "language_info": {
   "name": "python"
  },
  "orig_nbformat": 4
 },
 "nbformat": 4,
 "nbformat_minor": 2
}
