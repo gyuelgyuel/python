{
 "cells": [
  {
   "cell_type": "markdown",
   "metadata": {},
   "source": [
    "## header\n",
    "\n",
    "`import`를 통해 header를 받아온다\n",
    "\n",
    "## sys\n",
    "\n",
    "아래 code로 header를 import한다\n",
    "'''python\n",
    "import sys\n",
    "'''\n",
    "### sys.stdin\n",
    "\n",
    "시스템에 입력되는 input 값 저장소이다.\n",
    "```python\n",
    "sys.stdin = open('input.txt')\n",
    "```\n",
    "\n",
    "### input()\n",
    "\n",
    "`sys.stdin`에서 한줄을 읽어 `str` 형태로 가져온다"
   ]
  }
 ],
 "metadata": {
  "language_info": {
   "name": "python"
  },
  "orig_nbformat": 4
 },
 "nbformat": 4,
 "nbformat_minor": 2
}
